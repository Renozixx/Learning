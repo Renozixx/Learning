{
 "cells": [
  {
   "cell_type": "markdown",
   "id": "0f1f523f",
   "metadata": {},
   "source": [
    "# Dataset\n",
    "O dataset escolhido para estudo foi o Walmart Sales dataset que estuda os dados de venda de uma das maiores redes do setor varejista\n",
    " dos estados unidos, onde nele veremos os seguintes dados:\n",
    " Store: Store number\n",
    " Date: Sales week start date\n",
    " Weekly_Sales: Sales\n",
    " Holiday_Flag: Mark on the presence or absence of a holiday\n",
    " Temperature: Air temperature in the region\n",
    " Fuel_Price: Fuel cost in the region\n",
    " CPI: Consumer price index\n",
    " Unemployment: Unemployment rate\n",
    "\n",
    " Este dataset é muito maior que outros já que ele possuí a característica de analizar 45 lojas em direntes datas.\n",
    " Com essa analise é possivel identificar quais padroes afetam as escolhas dos consumidores desse tipo de loja.\n",
    "\n",
    " Portanto, Objetivo:\n",
    " Entender com base nos dados apresentados o que pode afetar nas vendas de uma loja do setor de varejo\n",
    " Metrica Principal:\n",
    " Dataset Utilizado: https://www.kaggle.com/datasets/mikhail1681/walmart-sales"
   ]
  },
  {
   "cell_type": "code",
   "execution_count": null,
   "id": "6c64a355",
   "metadata": {},
   "outputs": [],
   "source": [
    "import pandas as pd\n",
    "import numpy as np\n",
    "import matplotlib.pyplot as plt\n",
    "import tensorflow as tf\n",
    "from sklearn.model_selection import train_test_split\n",
    "from sklearn.preprocessing import StandardScaler\n",
    "from keras import models, layers\n",
    "\n",
    "model = models.Sequential([\n",
    "    layers.Dense(64, activation='relu', input_shade=(4,)), # input sahde fala a quantidade de features\n",
    "    layers.Dense(32, activation='relu'),\n",
    "    layers.Dense(1, activation='linear')\n",
    "])"
   ]
  },
  {
   "cell_type": "markdown",
   "id": "3216af84",
   "metadata": {},
   "source": [
    "Após os imports"
   ]
  }
 ],
 "metadata": {
  "language_info": {
   "name": "python"
  }
 },
 "nbformat": 4,
 "nbformat_minor": 5
}
